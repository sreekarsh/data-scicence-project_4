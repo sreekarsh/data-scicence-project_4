{
  "metadata": {
    "kernelspec": {
      "name": "python",
      "display_name": "Python (Pyodide)",
      "language": "python"
    },
    "language_info": {
      "codemirror_mode": {
        "name": "python",
        "version": 3
      },
      "file_extension": ".py",
      "mimetype": "text/x-python",
      "name": "python",
      "nbconvert_exporter": "python",
      "pygments_lexer": "ipython3",
      "version": "3.8"
    }
  },
  "nbformat_minor": 4,
  "nbformat": 4,
  "cells": [
    {
      "cell_type": "markdown",
      "source": "<p style=\"text-align:center\">\n    <a href=\"https://skills.network/?utm_medium=Exinfluencer&utm_source=Exinfluencer&utm_content=000026UJ&utm_term=10006555&utm_id=NA-SkillsNetwork-Channel-SkillsNetworkCoursesIBMDeveloperSkillsNetworkST0151ENSkillsNetwork20531532-2022-01-01\" target=\"_blank\">\n    <img src=\"https://cf-courses-data.s3.us.cloud-object-storage.appdomain.cloud/assets/logos/SN_web_lightmode.png\" width=\"200\" alt=\"Skills Network Logo\"  />\n    </a>\n</p>\n\n",
      "metadata": {}
    },
    {
      "cell_type": "markdown",
      "source": "#### Import the required libraries we need for the lab.\n",
      "metadata": {}
    },
    {
      "cell_type": "code",
      "source": "import piplite\nawait piplite.install(['numpy'],['pandas'])\nawait piplite.install(['seaborn'])",
      "metadata": {},
      "outputs": [],
      "execution_count": null
    },
    {
      "cell_type": "code",
      "source": "import pandas as pd\nimport pandas as pd\nimport seaborn as sns\nimport matplotlib.pyplot as pyplot\nimport scipy.stats\nimport statsmodels.api as sm\nfrom statsmodels.formula.api import ols",
      "metadata": {},
      "outputs": [],
      "execution_count": null
    },
    {
      "cell_type": "markdown",
      "source": "#### Read the dataset in the csv file from the URL\n",
      "metadata": {}
    },
    {
      "cell_type": "code",
      "source": "from js import fetch\nimport io\n\nURL = 'https://cf-courses-data.s3.us.cloud-object-storage.appdomain.cloud/IBMDeveloperSkillsNetwork-ST0151EN-SkillsNetwork/labs/boston_housing.csv'\nresp = await fetch(URL)\nboston_url = io.BytesIO((await resp.arrayBuffer()).to_py())",
      "metadata": {},
      "outputs": [],
      "execution_count": null
    },
    {
      "cell_type": "code",
      "source": "boston_df=pd.read_csv(boston_url)",
      "metadata": {},
      "outputs": [],
      "execution_count": null
    },
    {
      "cell_type": "markdown",
      "source": "#### Add your code below following the instructions given in the course to complete the peer graded assignment\n",
      "metadata": {}
    },
    {
      "cell_type": "code",
      "source": "# Set up Seaborn style for consistency in plots\nsns.set(style=\"whitegrid\")\nplt.figure(figsize=(8, 6))\nsns.boxplot(y=boston_df['MEDV'])\nplt.title(\"Boxplot of Median Value of Owner-Occupied Homes\")\nplt.ylabel(\"Median Value (in $1000's)\")\nplt.show()\nplt.figure(figsize=(8, 6))\nsns.countplot(x='CHAS', data=boston_df)\nplt.title(\"Count of Homes Bounded by the Charles River\")\nplt.xlabel(\"Charles River Proximity (0 = No, 1 = Yes)\")\nplt.ylabel(\"Count\")\nplt.show()\n\n# Discretize AGE into groups\nboston_df['AGE_group'] = pd.cut(boston_df['AGE'], bins=[0, 35, 70, 100], labels=['<=35', '35-70', '>70'])\n\nplt.figure(figsize=(8, 6))\nsns.boxplot(x='AGE_group', y='MEDV', data=boston_df)\nplt.title(\"Boxplot of MEDV by AGE Group\")\nplt.xlabel(\"Age Group\")\nplt.ylabel(\"Median Value (in $1000's)\")\nplt.show()\n\nplt.figure(figsize=(8, 6))\nsns.scatterplot(x='INDUS', y='NOX', data=boston_df)\nplt.title(\"Scatter Plot of NOX vs. INDUS\")\nplt.xlabel(\"Proportion of Non-Retail Business Acres (INDUS)\")\nplt.ylabel(\"Nitric Oxide Concentration (NOX)\")\nplt.show()\n\nplt.figure(figsize=(8, 6))\nsns.histplot(boston_df['PTRATIO'], kde=True)\nplt.title(\"Histogram of Pupil-Teacher Ratio (PTRATIO)\")\nplt.xlabel(\"Pupil-Teacher Ratio\")\nplt.ylabel(\"Frequency\")\nplt.show()\n\n# Group data based on CHAS\nmedv_chas1 = boston_df[boston_df['CHAS'] == 1]['MEDV']\nmedv_chas0 = boston_df[boston_df['CHAS'] == 0]['MEDV']\n\n# Perform t-test\nt_stat, p_value_ttest = stats.ttest_ind(medv_chas1, medv_chas0)\nprint(\"T-Test Results:\")\nprint(\"t-statistic:\", t_stat)\nprint(\"p-value:\", p_value_ttest)\n\n# One-Way ANOVA Test for MEDV across AGE groups\nage_groups = [boston_df[boston_df['AGE_group'] == grp]['MEDV'] for grp in boston_df['AGE_group'].cat.categories]\nf_stat, p_value_anova = stats.f_oneway(*age_groups)\nprint(\"ANOVA Results:\")\nprint(\"F-statistic:\", f_stat)\nprint(\"p-value:\", p_value_anova)\n\ncorrelation_coef, p_value_corr = stats.pearsonr(boston_df['NOX'], boston_df['INDUS'])\nprint(\"Pearson Correlation Results:\")\nprint(\"Correlation Coefficient:\", correlation_coef)\nprint(\"p-value:\", p_value_corr)\n\n# Simple Linear Regression\nregression_model = ols('MEDV ~ DIS', data=boston_df).fit()\n\n# Print out regression summary\nprint(regression_model.summary())\n\n",
      "metadata": {},
      "outputs": [],
      "execution_count": null
    }
  ]
}